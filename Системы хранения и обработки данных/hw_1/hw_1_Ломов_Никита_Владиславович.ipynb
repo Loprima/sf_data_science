{
 "cells": [
  {
   "cell_type": "markdown",
   "metadata": {},
   "source": [
    "# Создание и нормализация базы данных"
   ]
  },
  {
   "cell_type": "markdown",
   "metadata": {},
   "source": [
    "### (2 балла) Продумать структуру базы данных и отрисовать в редакторе."
   ]
  },
  {
   "cell_type": "markdown",
   "metadata": {},
   "source": [
    "![Структура.png](hw1.png)"
   ]
  },
  {
   "cell_type": "markdown",
   "metadata": {},
   "source": [
    "### (2 балла) Нормализовать базу данных (1НФ — 3НФ), описав, к какой нормальной форме приводится таблица и почему таблица в этой нормальной форме изначально не находилась.\n",
    "\n",
    "1. Первая нормальная форма (1NF):\n",
    "Все значения в ячейках должны быть атомарными. В исходных данных этот критерий выполняется.\n",
    "2. Вторая нормальная форма (2NF):\n",
    "У нас есть составной первичный ключ (transaction_id, product_id) в таблице transactions, и все атрибуты зависят от обоих частей этого ключа. Следовательно, делаем отдельные тоблицы transactions c pk transaction_id и product с pk product_id.\n",
    "Также имеется отдельная таблица customer с атрибутами, зависящими от первичного ключа (customer_id). Это соответствует 2ой НФ. Создаем табличку customers с pk customer_id.\n",
    "3. Третья нормальная форма (3NF):\n",
    "Атрибуты, не являющиеся первичным ключом, зависят только от первичного ключа.\n",
    "Выделена таблица customer_address для избежания транзитивных зависимостей, таких как state, postcode и country, относительно customer_id в таблице customers."
   ]
  },
  {
   "cell_type": "markdown",
   "metadata": {},
   "source": [
    "### (3 балла) Создать все таблицы в DBeaver, указав первичные ключи к таблицам, правильные типы данных, могут ли поля быть пустыми или нет (использовать команду CREATE TABLE).\n",
    "\n",
    "1. \n",
    "-- Создание таблицы transactions_products_customers\n",
    "CREATE TABLE transactions_products_customers (\n",
    "  transaction_product_customer_id SERIAL PRIMARY KEY,\n",
    "  transaction_id INT REFERENCES transactions(transaction_id) NOT NULL,\n",
    "  product_id INT REFERENCES product(product_id) NOT NULL,\n",
    "  customer_id INT REFERENCES customers(customer_id) NOT NULL,\n",
    "  quantity INT NOT NULL,\n",
    "  discount DECIMAL NOT NULL\n",
    ");\n",
    "\n",
    "2. \n",
    "-- Создание таблицы transactions\n",
    "CREATE TABLE transactions (\n",
    "  transaction_id SERIAL PRIMARY KEY,\n",
    "  transaction_date DATE NOT NULL,\n",
    "  online_order BOOLEAN,\n",
    "  order_status VARCHAR NOT NULL\n",
    ");\n",
    "\n",
    "3. \n",
    "-- Создание таблицы product\n",
    "CREATE TABLE product (\n",
    "  product_id SERIAL PRIMARY KEY,\n",
    "  brand VARCHAR NOT NULL,\n",
    "  product_line VARCHAR NOT NULL,\n",
    "  product_class VARCHAR NOT NULL,\n",
    "  product_size VARCHAR NOT NULL,\n",
    "  list_price DECIMAL NOT NULL,\n",
    "  standard_cost DECIMAL NOT NULL\n",
    ");\n",
    "\n",
    "4. \n",
    "-- Создание таблицы customers\n",
    "CREATE TABLE customers (\n",
    "  customer_id SERIAL PRIMARY KEY,\n",
    "  first_name VARCHAR NOT NULL,\n",
    "  last_name VARCHAR NOT NULL,\n",
    "  gender VARCHAR NOT NULL,\n",
    "  dob DATE NOT NULL,\n",
    "  job_title VARCHAR NOT NULL,\n",
    "  job_industry_category VARCHAR NOT NULL,\n",
    "  wealth_segment VARCHAR NOT NULL,\n",
    "  deceased_indicator VARCHAR NOT NULL,\n",
    "  owns_car VARCHAR NOT NULL\n",
    ");\n",
    "\n",
    "5. \n",
    "-- Создание таблицы customer_address\n",
    "CREATE TABLE customer_address (\n",
    "  address_id SERIAL PRIMARY KEY,\n",
    "  customer_id INT REFERENCES customers(customer_id) NOT NULL,\n",
    "  address VARCHAR NOT NULL,\n",
    "  postcode INT NOT NULL,\n",
    "  state VARCHAR NOT NULL,\n",
    "  country VARCHAR NOT NULL\n",
    ");"
   ]
  },
  {
   "cell_type": "markdown",
   "metadata": {},
   "source": [
    "### (3 балла) Загрузить данные в таблицы в соответствии с созданной структурой (использовать команду INSERT INTO или загрузить файлы, используя возможности инструмента DBeaver; в случае загрузки файлами приложить скрины, что данные действительно были залиты).\n",
    "\n",
    "Часть данных пришлось \"выдумать\" (провливал только первых 10 кастомеров, в первых 10 транзакциях их id не используются)\n",
    "\n",
    "![данные1.png](sql-1.png)\n",
    "![данные2.png](sql-2.png)\n",
    "![данные3.png](sql-3.png)\n",
    "![данные4.png](sql-4.png)\n",
    "![данные5.png](sql-5.png)"
   ]
  }
 ],
 "metadata": {
  "kernelspec": {
   "display_name": "Python 3",
   "language": "python",
   "name": "python3"
  },
  "language_info": {
   "name": "python",
   "version": "3.12.0"
  }
 },
 "nbformat": 4,
 "nbformat_minor": 2
}
